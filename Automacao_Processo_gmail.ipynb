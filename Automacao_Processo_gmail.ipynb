{
 "cells": [
  {
   "cell_type": "markdown",
   "metadata": {},
   "source": [
    "### Passo 1 - Importar Arquivos e Bibliotecas"
   ]
  },
  {
   "cell_type": "code",
   "execution_count": null,
   "metadata": {},
   "outputs": [],
   "source": [
    "import pandas as pd\n",
    "from pathlib import Path\n",
    "\n",
    "#Aqui estamos pré-visualizando os arquivos que serão analisados\n",
    "vendas_df = pd.read_excel('Vendas.xlsx')\n",
    "email_df = pd.read_excel('Emails.xlsx')\n",
    "lojas_df = pd.read_csv('Lojas.csv',encoding='latin1', sep=';')\n",
    "#Sempre importante durante o processo visualizar o atual estado do seu código \n",
    "display(vendas_df.head())\n",
    "display(email_df.head())\n",
    "display(lojas_df.head())"
   ]
  },
  {
   "cell_type": "markdown",
   "metadata": {},
   "source": [
    "### Passo 2 - Definir Criar uma Tabela para cada Loja e Definir o dia do Indicador"
   ]
  },
  {
   "cell_type": "code",
   "execution_count": null,
   "metadata": {},
   "outputs": [],
   "source": [
    "#Mesclando dois dataframe a partir do ID \n",
    "vendas_df = vendas_df.merge(lojas_df, on='ID Loja')\n",
    "display(vendas_df)"
   ]
  },
  {
   "cell_type": "code",
   "execution_count": null,
   "metadata": {},
   "outputs": [],
   "source": [
    "#Aqui criando um dicionario vario para guardar os nomes de todas as lojas\n",
    "grupo_lojas = {}\n",
    "#Percorrendo o Dataframe lojas_df\n",
    "for loja in lojas_df['Loja']:\n",
    "    grupo_lojas[loja] = vendas_df.loc[vendas_df['Loja'] == loja, :]\n",
    "display(grupo_lojas['Iguatemi Campinas'])\n",
    "display(grupo_lojas['Shopping Recife'])    "
   ]
  },
  {
   "cell_type": "code",
   "execution_count": null,
   "metadata": {},
   "outputs": [],
   "source": [
    "#Estabelendo o dia indicador como sendo a maior data em vendas_df\n",
    "dia_indicador = vendas_df['Data'].max()\n",
    "print(dia_indicador)\n",
    "print(f'Rearranjando o formato da data {dia_indicador.day}/{dia_indicador.month}/{dia_indicador.year} ')"
   ]
  },
  {
   "cell_type": "markdown",
   "metadata": {},
   "source": [
    "### Passo 3 - Salvar a planilha na pasta de backup\n",
    "#### Nessa etapa fazemos a verificação da existencia de uma pasta da devida loja com o seu respectivo arquivo, caso não exista criamos se existir criamos o arquivo"
   ]
  },
  {
   "cell_type": "code",
   "execution_count": null,
   "metadata": {},
   "outputs": [],
   "source": [
    "backup_arquivo = Path(r'Backup Arquivos Lojas')\n",
    "arquivos_lojas = backup_arquivo.iterdir()\n",
    "lista_nomes_lojas = []\n",
    "\n",
    "for arquivo in arquivos_lojas:\n",
    "    lista_nomes_lojas.append(arquivo.name)\n",
    "\n",
    "for loja in grupo_lojas:\n",
    "    if loja not in lista_nomes_lojas:    \n",
    "        nova_pasta = backup_arquivo / loja\n",
    "        nova_pasta.mkdir()\n",
    "    \n",
    "    nome_arquivo = f\"{dia_indicador.day}_{dia_indicador.month}_{loja}.xlsx\"\n",
    "    local_arquivo = backup_arquivo / loja / nome_arquivo\n",
    "    \n",
    "    grupo_lojas[loja].to_excel(local_arquivo)\n"
   ]
  },
  {
   "cell_type": "markdown",
   "metadata": {},
   "source": [
    "### Passo 4 - Criando as variaveis de cada indicador a ser analisado"
   ]
  },
  {
   "cell_type": "code",
   "execution_count": null,
   "metadata": {
    "scrolled": true
   },
   "outputs": [],
   "source": [
    "meta_faturamento_dia = 1000\n",
    "meta_faturamento_ano = 1650000\n",
    "meta_qtdeprodutos_dia = 4\n",
    "meta_qtdeprodutos_ano = 120\n",
    "meta_ticketmedio_dia = 500\n",
    "meta_ticketmedio_ano = 500"
   ]
  },
  {
   "cell_type": "markdown",
   "metadata": {},
   "source": [
    "#### Dica fazer o calculo dos indicadores primeiro para uma loja depois usar uma estrutura de repetição para todas as outras"
   ]
  },
  {
   "cell_type": "code",
   "execution_count": null,
   "metadata": {},
   "outputs": [],
   "source": [
    "import smtplib \n",
    "from email.mime.multipart import MIMEMultipart \n",
    "from email.mime.text import MIMEText \n",
    "from email.mime.base import MIMEBase \n",
    "from email import encoders\n",
    "\n",
    "#Calculando os indicadores\n",
    "for loja in grupo_lojas:\n",
    "  vendas_loja = grupo_lojas[loja]\n",
    "  vendas_loja_dia = vendas_loja.loc[vendas_loja['Data']==dia_indicador, :]\n",
    "\n",
    "  #faturamento\n",
    "  faturamento_ano = vendas_loja['Valor Final'].sum()\n",
    "  #print(faturamento_ano)\n",
    "  faturamento_dia = vendas_loja_dia['Valor Final'].sum()\n",
    "  #print(faturamento_dia)\n",
    "\n",
    "  #diversidade de produtos\n",
    "  qtde_produtos_ano = len(vendas_loja['Produto'].unique())\n",
    "  #print(qtde_produtos_ano)\n",
    "  qtde_produtos_dia = len(vendas_loja_dia['Produto'].unique())\n",
    "  #print(qtde_produtos_dia)\n",
    "\n",
    "  #ticket medio\n",
    "  valor_venda = vendas_loja.groupby('Código Venda').sum()\n",
    "  ticket_medio_ano = valor_venda['Valor Final'].mean()\n",
    "  #print(ticket_medio_ano)\n",
    "\n",
    "  #ticket_medio_dia\n",
    "  valor_venda_dia = vendas_loja_dia.groupby('Código Venda').sum()\n",
    "  ticket_medio_dia = valor_venda_dia['Valor Final'].mean()\n",
    "  #print(ticket_medio_dia)\n",
    "  \n",
    "  #enviar o e-mail\n",
    "  fromaddr = \"E-mail gmail\"#Verifique as configurações de segurança do gmail\n",
    "  toaddr = email_df.loc[email_df['Loja']==loja, 'E-mail'].values[0]#Use o arquivo com a lista de e-mails para tornar mais eficiente o trabalho\n",
    "  nome = email_df.loc[email_df['Loja']==loja, 'Gerente'].values[0]\n",
    "    \n",
    "  msg = MIMEMultipart() \n",
    "  msg['From'] = fromaddr \n",
    "  msg['To'] = toaddr \n",
    "  msg['Subject'] = f'OnePage Dia {dia_indicador.day}/{dia_indicador.month} - Loja {loja}'\n",
    "\n",
    "  if faturamento_dia >= meta_faturamento_dia:\n",
    "      cor_fat_dia = 'green'\n",
    "  else:\n",
    "      cor_fat_dia = 'red'\n",
    "  if faturamento_ano >= meta_faturamento_ano:\n",
    "      cor_fat_ano = 'green'\n",
    "  else:\n",
    "      cor_fat_ano = 'red'\n",
    "  if qtde_produtos_dia >= meta_qtdeprodutos_dia:\n",
    "      cor_qtde_dia = 'green'\n",
    "  else:\n",
    "      cor_qtde_dia = 'red'\n",
    "  if qtde_produtos_ano >= meta_qtdeprodutos_ano:\n",
    "      cor_qtde_ano = 'green'\n",
    "  else:\n",
    "      cor_qtde_ano = 'red'\n",
    "  if ticket_medio_dia >= meta_ticketmedio_dia:\n",
    "      cor_ticket_dia = 'green'\n",
    "  else:\n",
    "      cor_ticket_dia = 'red'\n",
    "  if ticket_medio_ano >= meta_ticketmedio_ano:\n",
    "      cor_ticket_ano = 'green'\n",
    "  else:\n",
    "      cor_ticket_ano = 'red'\n",
    "  \n",
    "  body = f\"\"\"\n",
    "  <p>Bom dia, {nome}</p>\n",
    "\n",
    "  <p>O resultado de ontem <strong>({dia_indicador.day}/{dia_indicador.month})</strong> da Loja <strong>{loja}</strong> foi:</p>\n",
    "\n",
    "  <table>\n",
    "    <tr>\n",
    "      <th>Indicador</th>\n",
    "      <th>Valor Dia</th>\n",
    "      <th>Meta Dia</th>\n",
    "      <th>Cenário Dia</th>\n",
    "    </tr>\n",
    "    <tr>\n",
    "      <td>Faturamento</td>\n",
    "      <td style=\"text-align: center\">R${faturamento_dia:.2f}</td>\n",
    "      <td style=\"text-align: center\">R${meta_faturamento_dia:.2f}</td>\n",
    "      <td style=\"text-align: center\"><font color=\"{cor_fat_dia}\">◙</font></td>\n",
    "    </tr>\n",
    "    <tr>\n",
    "      <td>Diversidade de Produtos</td>\n",
    "      <td style=\"text-align: center\">{qtde_produtos_dia}</td>\n",
    "      <td style=\"text-align: center\">{meta_qtdeprodutos_dia}</td>\n",
    "      <td style=\"text-align: center\"><font color=\"{cor_qtde_dia}\">◙</font></td>\n",
    "    </tr>\n",
    "    <tr>\n",
    "      <td>Ticket Médio</td>\n",
    "      <td style=\"text-align: center\">R${ticket_medio_dia:.2f}</td>\n",
    "      <td style=\"text-align: center\">R${meta_ticketmedio_dia:.2f}</td>\n",
    "      <td style=\"text-align: center\"><font color=\"{cor_ticket_dia}\">◙</font></td>\n",
    "    </tr>\n",
    "  </table>\n",
    "  <br>\n",
    "  <table>\n",
    "    <tr>\n",
    "      <th>Indicador</th>\n",
    "      <th>Valor Ano</th>\n",
    "      <th>Meta Ano</th>\n",
    "      <th>Cenário Ano</th>\n",
    "    </tr>\n",
    "    <tr>\n",
    "      <td>Faturamento</td>\n",
    "      <td style=\"text-align: center\">R${faturamento_ano:.2f}</td>\n",
    "      <td style=\"text-align: center\">R${meta_faturamento_ano:.2f}</td>\n",
    "      <td style=\"text-align: center\"><font color=\"{cor_fat_ano}\">◙</font></td>\n",
    "    </tr>\n",
    "    <tr>\n",
    "      <td>Diversidade de Produtos</td>\n",
    "      <td style=\"text-align: center\">{qtde_produtos_ano}</td>\n",
    "      <td style=\"text-align: center\">{meta_qtdeprodutos_ano}</td>\n",
    "      <td style=\"text-align: center\"><font color=\"{cor_qtde_ano}\">◙</font></td>\n",
    "    </tr>\n",
    "    <tr>\n",
    "      <td>Ticket Médio</td>\n",
    "      <td style=\"text-align: center\">R${ticket_medio_ano:.2f}</td>\n",
    "      <td style=\"text-align: center\">R${meta_ticketmedio_ano:.2f}</td>\n",
    "      <td style=\"text-align: center\"><font color=\"{cor_ticket_ano}\">◙</font></td>\n",
    "    </tr>\n",
    "  </table>\n",
    "  <p>João Medeiros</p>\n",
    "  \"\"\"\n",
    "  msg.attach(MIMEText(body, 'html')) \n",
    "  filename = f\"{dia_indicador.day}_{dia_indicador.month}_{loja}.xlsx\"\n",
    "  attachment = open(r\"Local do arquivo\", \"rb\")\n",
    "  p = MIMEBase('application', 'octet-stream') \n",
    "  p.set_payload((attachment).read()) \n",
    "  encoders.encode_base64(p) \n",
    "\n",
    "  p.add_header('Content-Disposition', \"attachment; filename= %s\" % filename) \n",
    "  msg.attach(p) \n",
    "  s = smtplib.SMTP('smtp.gmail.com', 587) \n",
    "  s.starttls() \n",
    "  s.login(fromaddr, \"diykpkcaoujaauoa\") \n",
    "  text = msg.as_string() \n",
    "  s.sendmail(fromaddr, toaddr, text)\n",
    "\n",
    "  print('E-mail da Loja {} enviado'.format(loja))"
   ]
  },
  {
   "cell_type": "markdown",
   "metadata": {},
   "source": [
    "### Passo 7 - Criar ranking para diretoria"
   ]
  },
  {
   "cell_type": "code",
   "execution_count": null,
   "metadata": {},
   "outputs": [],
   "source": [
    "faturamento_lojas = vendas_df.groupby('Loja')[['Loja', 'Valor Final']].sum()\n",
    "faturamento_lojas_ano = faturamento_lojas.sort_values(by='Valor Final', ascending=False)\n",
    "display(faturamento_lojas_ano)\n",
    "\n",
    "name_file = f'{dia_indicador.day}_{dia_indicador.month}_Ranking_anual.xlsx'\n",
    "faturamento_lojas_ano.to_excel(r'Backup Arquivos Lojas\\{}'.format(name_file))\n",
    "\n",
    "vendas_dia = vendas_df.loc[vendas_df['Data']==dia_indicador, :]\n",
    "faturamento_lojas_dia = vendas_dia.groupby('Loja')[['Loja', 'Valor Final']].sum()\n",
    "faturamento_lojas_dia = faturamento_lojas_dia.sort_values(by='Valor Final', ascending=False)\n",
    "display(faturamento_lojas_dia)\n",
    "\n",
    "name_file = f'{dia_indicador.day}_{dia_indicador.month}_Ranking_dia.xlsx'\n",
    "faturamento_lojas_dia.to_excel(r'Backup Arquivos Lojas\\{}'.format(name_file))"
   ]
  },
  {
   "cell_type": "markdown",
   "metadata": {},
   "source": [
    "### Passo 8 - Enviar e-mail para diretoria"
   ]
  },
  {
   "cell_type": "code",
   "execution_count": null,
   "metadata": {},
   "outputs": [],
   "source": [
    "#enviar o e-mail para Diretoria\n",
    "fromaddr = \"E-mail gmail\"\n",
    "toaddr = email_df.loc[email_df['Loja']=='Diretoria', 'E-mail'].values[0]#Lista da e-mail\n",
    "  \n",
    "msg = MIMEMultipart() \n",
    "msg['From'] = fromaddr \n",
    "msg['To'] = toaddr \n",
    "msg['Subject'] = f'Ranking dia {dia_indicador.day}/{dia_indicador.month}'\n",
    "\n",
    "\n",
    "body = f\"\"\"\n",
    "Prezados,\n",
    "\n",
    "Bom dia,\n",
    "\n",
    "Melhor loja do Dia em Faturamento: Loja {faturamento_lojas_dia.index[0]} com o Fatruramentor R$ {faturamento_lojas_dia.iloc[0, 0]:.2f}\n",
    "Pior loja do Dia em Faturamento: Loja {faturamento_lojas_dia.index[-1]} com o Fatruramentor R$ {faturamento_lojas_dia.iloc[-1, 0]:.2f}\n",
    "\n",
    "Melhor loja do Ano em Faturamento: Loja {faturamento_lojas_ano.index[0]} com o Fatruramentor R$ {faturamento_lojas_ano.iloc[0, 0]:.2f}\n",
    "Pior loja do Ano em Faturamento: Loja {faturamento_lojas_ano.index[-1]} com o Fatruramentor R$ {faturamento_lojas_ano.iloc[-1, 0]:.2f}\n",
    "\n",
    "Segue anexo os Rankings do Dia e do Ano de todas as lojas.\n",
    "\n",
    "Qualquer dúvida estou à disposição.\n",
    "\n",
    "Atenciosamente,\n",
    "\n",
    "João Medeiros\n",
    "\"\"\"\n",
    "msg.attach(MIMEText(body, 'plain')) \n",
    "filename = f\"{dia_indicador.day}_{dia_indicador.month}_Ranking_anual.xlsx\"\n",
    "attachment = open(r\"Local do arquivo\", \"rb\")\n",
    "p = MIMEBase('application', 'octet-stream') \n",
    "p.set_payload((attachment).read()) \n",
    "encoders.encode_base64(p) \n",
    "\n",
    "p.add_header('Content-Disposition', \"attachment; filename= %s\" % filename) \n",
    "msg.attach(p)\n",
    "\n",
    "filename = f\"{dia_indicador.day}_{dia_indicador.month}_Ranking_dia.xlsx\"\n",
    "attachment = open(r\"Local do arquivo\", \"rb\")\n",
    "p = MIMEBase('application', 'octet-stream') \n",
    "p.set_payload((attachment).read()) \n",
    "encoders.encode_base64(p) \n",
    "\n",
    "p.add_header('Content-Disposition', \"attachment; filename= %s\" % filename) \n",
    "msg.attach(p)\n",
    "\n",
    "s = smtplib.SMTP('smtp.gmail.com', 587) \n",
    "s.starttls() \n",
    "s.login(fromaddr, \"diykpkcaoujaauoa\") \n",
    "text = msg.as_string() \n",
    "s.sendmail(fromaddr, toaddr, text)\n",
    "\n",
    "print('E-mail da Diretoria enviado')"
   ]
  }
 ],
 "metadata": {
  "kernelspec": {
   "display_name": "Python 3.10.0 64-bit",
   "language": "python",
   "name": "python3"
  },
  "language_info": {
   "codemirror_mode": {
    "name": "ipython",
    "version": 3
   },
   "file_extension": ".py",
   "mimetype": "text/x-python",
   "name": "python",
   "nbconvert_exporter": "python",
   "pygments_lexer": "ipython3",
   "version": "3.10.0"
  },
  "vscode": {
   "interpreter": {
    "hash": "8c3d4d9970fc5c09c50d9318a9c7fbf4d0159e4b28833276f5678ee22bded273"
   }
  }
 },
 "nbformat": 4,
 "nbformat_minor": 4
}
